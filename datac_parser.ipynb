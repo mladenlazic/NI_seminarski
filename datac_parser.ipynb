{
 "cells": [
  {
   "cell_type": "code",
   "execution_count": 5,
   "metadata": {
    "collapsed": false
   },
   "outputs": [],
   "source": [
    "import re\n",
    "import numpy as np\n",
    "import pandas as pd\n",
    "from xml.etree import ElementTree\n",
    "\n",
    "f = open('data_parsed.csv', 'w')\n",
    "f.write('TOPICS;PLACE;PEOPLE;ORGS;EXCHANGES' + '\\n')\n",
    "\n",
    "for i in range(0,22):\n",
    "    if(i < 10):\n",
    "        url = \"data/reut2-00\" + str(i) +\".xml\"\n",
    "    else:\n",
    "        url = \"data/reut2-0\" + str(i) +\".xml\"\n",
    "    xml = open(url, 'r').read()\n",
    "    root = ElementTree.fromstring(re.sub(r\"(<\\?xml[^>]+\\?>)\", r\"\\1<root>\", xml) + \"</root>\")\n",
    "    \n",
    "    count = re.findall('<\\/REUTERS>', xml)\n",
    "    \n",
    "    def filter(arg):\n",
    "        tmp = []\n",
    "        for content in arg:\n",
    "            tmp.append(content.text)\n",
    "        if(len(tmp) == 0):\n",
    "            t = 'None'\n",
    "        else:\n",
    "            t = tmp[0]\n",
    "        tmp.clear()\n",
    "        return t\n",
    "\n",
    "    for i in range(0,len(count)):\n",
    "\n",
    "        topic = filter(root[i][1].getchildren())\n",
    "        place = filter(root[i][2].getchildren())\n",
    "        people = filter(root[i][3].getchildren())\n",
    "        orgs = filter(root[i][4].getchildren())\n",
    "        exchanges = filter(root[i][5].getchildren())\n",
    "\n",
    "        f.write(topic + \";\" + place + \";\" + people +\";\" + orgs +\";\" + exchanges +'\\n')"
   ]
  }
 ],
 "metadata": {
  "kernelspec": {
   "display_name": "Python 3",
   "language": "python",
   "name": "python3"
  },
  "language_info": {
   "codemirror_mode": {
    "name": "ipython",
    "version": 3
   },
   "file_extension": ".py",
   "mimetype": "text/x-python",
   "name": "python",
   "nbconvert_exporter": "python",
   "pygments_lexer": "ipython3",
   "version": "3.6.0"
  }
 },
 "nbformat": 4,
 "nbformat_minor": 2
}
